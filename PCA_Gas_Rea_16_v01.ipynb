{
 "cells": [
  {
   "cell_type": "code",
   "execution_count": 1,
   "id": "5258117b",
   "metadata": {},
   "outputs": [],
   "source": [
    "# PCA 16 components Real Data Electricity"
   ]
  },
  {
   "cell_type": "markdown",
   "id": "9063cd5c",
   "metadata": {},
   "source": [
    "# PCA anomaly detection SCADAS\n",
    "\n",
    "PCA used for anomaly detection <br>\n",
    "\n",
    "Normal and attack real data<br>\n"
   ]
  },
  {
   "cell_type": "code",
   "execution_count": 2,
   "id": "4f94e982",
   "metadata": {},
   "outputs": [
    {
     "name": "stderr",
     "output_type": "stream",
     "text": [
      "2022-10-13 22:03:45.671253: W tensorflow/stream_executor/platform/default/dso_loader.cc:64] Could not load dynamic library 'libcudart.so.11.0'; dlerror: libcudart.so.11.0: cannot open shared object file: No such file or directory\n",
      "2022-10-13 22:03:45.671275: I tensorflow/stream_executor/cuda/cudart_stub.cc:29] Ignore above cudart dlerror if you do not have a GPU set up on your machine.\n"
     ]
    }
   ],
   "source": [
    "import numpy as np\n",
    "import pandas as pd\n",
    "from tensorflow import keras\n",
    "from tensorflow.keras import layers\n",
    "from tensorflow import keras\n",
    "from sklearn.preprocessing import normalize\n",
    "from sklearn.model_selection import train_test_split\n",
    "from sklearn.preprocessing import MinMaxScaler, StandardScaler, PowerTransformer\n",
    "from sklearn.decomposition import PCA\n",
    "from sklearn.pipeline import make_pipeline\n",
    "from sklearn.metrics import classification_report\n",
    "\n",
    "import seaborn as sns\n",
    "import matplotlib.pyplot as plt\n",
    "\n",
    "import os\n",
    "os.environ['TF_CPP_MIN_LOG_LEVEL'] = '3' # to avoid warning messages = 3 "
   ]
  },
  {
   "cell_type": "code",
   "execution_count": 3,
   "id": "476be712",
   "metadata": {},
   "outputs": [],
   "source": [
    "# assign number of components\n",
    "n_comp = 16"
   ]
  },
  {
   "cell_type": "code",
   "execution_count": 4,
   "id": "b13b0c54",
   "metadata": {},
   "outputs": [],
   "source": [
    "def label_marker(row):\n",
    "    if isinstance(row[label_name], str) and 'Natural' in row[label_name]:\n",
    "        return 0\n",
    "    if isinstance(row[label_name], str) and 'Attack' in row[label_name]:\n",
    "        return 1\n",
    "    return "
   ]
  },
  {
   "cell_type": "code",
   "execution_count": 5,
   "id": "7cf479f9",
   "metadata": {},
   "outputs": [
    {
     "name": "stdout",
     "output_type": "stream",
     "text": [
      "61156\n",
      "35863\n"
     ]
    }
   ],
   "source": [
    "path = './gas/'\n",
    "path_figures = './figures/'\n",
    "label_name = 'result'\n",
    "#path_normal = path +'VAE_syntheticdata_normal_epoch100_1000000.csv'\n",
    "path_normal = path +'Normal.csv'\n",
    "path_attack = path + 'Attack.csv' # real data\n",
    "\n",
    "normal_df = pd.read_csv(path_normal)  \n",
    "attack_df = pd.read_csv(path_attack)  \n",
    "\n",
    "normal_df[label_name] = normal_df.apply(label_marker, axis=1)\n",
    "attack_df[label_name] = attack_df.apply(label_marker, axis=1)\n",
    "\n",
    "normal_label = normal_df[label_name].to_numpy() \n",
    "attack_label = attack_df[label_name].to_numpy() \n",
    "\n",
    "print(len(normal_label))\n",
    "print(len(attack_label))"
   ]
  },
  {
   "cell_type": "code",
   "execution_count": 6,
   "id": "b66f06a3",
   "metadata": {},
   "outputs": [],
   "source": [
    "# Delete marker column \n",
    "normal_df.drop([label_name], axis=1, inplace=True)\n",
    "attack_df.drop([label_name], axis=1, inplace=True)"
   ]
  },
  {
   "cell_type": "code",
   "execution_count": 7,
   "id": "df8ac2c1",
   "metadata": {},
   "outputs": [
    {
     "name": "stdout",
     "output_type": "stream",
     "text": [
      "normal shape (61156, 26)\n",
      "attack shape (35863, 26)\n"
     ]
    }
   ],
   "source": [
    "# each row of the dataframe is considered a sequence\n",
    "# we create a numpy array with the sequences\n",
    "normal_np = normal_df.to_numpy()\n",
    "print('normal shape',normal_np.shape)\n",
    "attack_np = attack_df.to_numpy()\n",
    "print('attack shape', attack_np.shape)"
   ]
  },
  {
   "cell_type": "code",
   "execution_count": 8,
   "id": "46c1a00d",
   "metadata": {},
   "outputs": [],
   "source": [
    "normal_df = normal_df.replace([np.inf, -np.inf], 0)\n",
    "scaler = MinMaxScaler()\n",
    "normal_scaled = scaler.fit_transform(normal_df)\n",
    "\n",
    "attack_df = attack_df.replace([np.inf, -np.inf], 0)\n",
    "scaler = MinMaxScaler()\n",
    "attack_scaled = scaler.fit_transform(attack_df)"
   ]
  },
  {
   "cell_type": "code",
   "execution_count": 9,
   "id": "9f73526d",
   "metadata": {},
   "outputs": [
    {
     "name": "stdout",
     "output_type": "stream",
     "text": [
      "(35863, 26)\n",
      "(61156, 26)\n"
     ]
    }
   ],
   "source": [
    "norm_samples = normal_scaled\n",
    "attack_samples = attack_scaled\n",
    "print (attack_samples.shape)\n",
    "print (norm_samples.shape)"
   ]
  },
  {
   "cell_type": "code",
   "execution_count": 10,
   "id": "ac48ebcc",
   "metadata": {},
   "outputs": [],
   "source": [
    "# generate train set\n",
    "# training set will consist of the normal ds\n",
    "\n",
    "len_norm = len(norm_samples)\n",
    "len_norm_train = int(0.80 * len_norm)\n",
    "X_train = norm_samples[:len_norm_train]\n",
    "\n",
    "# generate test set consist of 50% attack and 50% normal\n",
    "\n",
    "X_test_norm = norm_samples[len_norm_train:]\n",
    "len_attack_test = len(X_test_norm) # we will use the same number\n",
    "X_test_attack = attack_scaled[:len_attack_test]\n",
    "\n",
    "X_test = np.concatenate([X_test_norm, X_test_attack])\n",
    "y_test = np.ones(len(X_test))\n",
    "y_test[:len(X_test_norm)] = np.zeros(len(X_test_norm))"
   ]
  },
  {
   "cell_type": "code",
   "execution_count": 11,
   "id": "29c5b2ae",
   "metadata": {},
   "outputs": [
    {
     "name": "stdout",
     "output_type": "stream",
     "text": [
      "Normal Traffic Training input shape:  (48924, 26)\n",
      "Test Traffic Test input shape:  (24464, 26)\n"
     ]
    }
   ],
   "source": [
    "#x_train = traffic_np_norm[...,np.newaxis]\n",
    "#x_combine = combine_np_norm[...,np.newaxis]\n",
    "#x_attack = attack_np_norm[...,np.newaxis]\n",
    "print(\"Normal Traffic Training input shape: \", X_train.shape)\n",
    "print(\"Test Traffic Test input shape: \", X_test.shape, )"
   ]
  },
  {
   "cell_type": "code",
   "execution_count": 12,
   "id": "5f52ff1d",
   "metadata": {},
   "outputs": [],
   "source": [
    "# Apply PCA to input\n",
    "\n",
    "model_input_PCA = PCA(n_components=None, random_state=123, \n",
    "                      svd_solver='arpack')\n",
    "X_transform_input = model_input_PCA.fit_transform(X_train)\n",
    "\n"
   ]
  },
  {
   "cell_type": "code",
   "execution_count": 13,
   "id": "5cbc10b3",
   "metadata": {},
   "outputs": [
    {
     "data": {
      "image/png": "[encoded data removed]",
      "text/plain": [
       "<Figure size 648x288 with 1 Axes>"
      ]
     },
     "metadata": {
      "needs_background": "light"
     },
     "output_type": "display_data"
    }
   ],
   "source": [
    "fig,ax = plt.subplots(1,1, figsize=(9,4))\n",
    "ax.bar(\n",
    "   x = np.arange(model_input_PCA.n_components_) + 1,\n",
    "   height = model_input_PCA.explained_variance_ratio_\n",
    ")\n",
    "\n",
    "ax.set_title('Percentaje variance explained by PCA')\n",
    "ax.set_xlabel('Principal component')\n",
    "ax.set_ylabel('Percentage variance explained');\n",
    "plt.show()"
   ]
  },
  {
   "cell_type": "code",
   "execution_count": 14,
   "id": "bd1db3ea",
   "metadata": {},
   "outputs": [
    {
     "name": "stdout",
     "output_type": "stream",
     "text": [
      "------------------------------------------\n",
      "Cummulated variance explained\n",
      "------------------------------------------\n",
      "[0.51339838 0.71211374 0.84852755 0.97498036 0.99885005 0.99951766\n",
      " 0.99995325 1.         1.         1.         1.         1.\n",
      " 1.         1.         1.         1.         1.         1.\n",
      " 1.         1.         1.         1.         1.         1.\n",
      " 1.        ]\n"
     ]
    },
    {
     "data": {
      "image/png": "[encoded data removed]",
      "text/plain": [
       "<Figure size 1152x288 with 1 Axes>"
      ]
     },
     "metadata": {
      "needs_background": "light"
     },
     "output_type": "display_data"
    }
   ],
   "source": [
    "# Cummulated variance explained\n",
    "# ==============================================================================\n",
    "prop_varianza_acum = model_input_PCA.explained_variance_ratio_.cumsum()\n",
    "print('------------------------------------------')\n",
    "print('Cummulated variance explained')\n",
    "print('------------------------------------------')\n",
    "print(prop_varianza_acum)\n",
    "\n",
    "fig, ax = plt.subplots(nrows=1, ncols=1, figsize=(16, 4))\n",
    "ax.plot(\n",
    "    np.arange(model_input_PCA.n_components_) + 1,\n",
    "    prop_varianza_acum,\n",
    "    marker = 'o'\n",
    ")\n",
    "\n",
    "for x, y in zip(np.arange(model_input_PCA.n_components_) + 1, prop_varianza_acum):\n",
    "    label = round(y, 2)\n",
    "    ax.annotate(\n",
    "        label,\n",
    "        (x,y),\n",
    "        textcoords=\"offset points\",\n",
    "        xytext=(0,10),\n",
    "        ha='center'\n",
    "    )\n",
    "\n",
    "ax.axvline(x=11, linestyle = '--')\n",
    "ax.set_ylim(0, 1.1)\n",
    "ax.set_xticks(np.arange(model_input_PCA.n_components_) + 1)\n",
    "ax.set_title('Porcentaje de varianza explicada acumulada')\n",
    "ax.set_xlabel('Componente principal')\n",
    "ax.set_ylabel('Por. varianza acumulada');\n",
    "\n"
   ]
  },
  {
   "cell_type": "code",
   "execution_count": 15,
   "id": "eb72791b",
   "metadata": {},
   "outputs": [
    {
     "name": "stdout",
     "output_type": "stream",
     "text": [
      "------------------\n",
      "Original values\n",
      "------------------\n"
     ]
    },
    {
     "data": {
      "text/html": [
       "<div>\n",
       "<style scoped>\n",
       "    .dataframe tbody tr th:only-of-type {\n",
       "        vertical-align: middle;\n",
       "    }\n",
       "\n",
       "    .dataframe tbody tr th {\n",
       "        vertical-align: top;\n",
       "    }\n",
       "\n",
       "    .dataframe thead th {\n",
       "        text-align: right;\n",
       "    }\n",
       "</style>\n",
       "<table border=\"1\" class=\"dataframe\">\n",
       "  <thead>\n",
       "    <tr style=\"text-align: right;\">\n",
       "      <th></th>\n",
       "      <th>0</th>\n",
       "      <th>1</th>\n",
       "      <th>2</th>\n",
       "      <th>3</th>\n",
       "      <th>4</th>\n",
       "      <th>5</th>\n",
       "      <th>6</th>\n",
       "      <th>7</th>\n",
       "      <th>8</th>\n",
       "      <th>9</th>\n",
       "      <th>...</th>\n",
       "      <th>16</th>\n",
       "      <th>17</th>\n",
       "      <th>18</th>\n",
       "      <th>19</th>\n",
       "      <th>20</th>\n",
       "      <th>21</th>\n",
       "      <th>22</th>\n",
       "      <th>23</th>\n",
       "      <th>24</th>\n",
       "      <th>25</th>\n",
       "    </tr>\n",
       "  </thead>\n",
       "  <tbody>\n",
       "    <tr>\n",
       "      <th>0</th>\n",
       "      <td>-8.396065e-17</td>\n",
       "      <td>1.229666e-16</td>\n",
       "      <td>0.717647</td>\n",
       "      <td>7.906872e-17</td>\n",
       "      <td>1.0</td>\n",
       "      <td>5.953540e-16</td>\n",
       "      <td>3.791266e-16</td>\n",
       "      <td>-2.519452e-16</td>\n",
       "      <td>1.0</td>\n",
       "      <td>7.651234e-16</td>\n",
       "      <td>...</td>\n",
       "      <td>-4.342346e-16</td>\n",
       "      <td>1.513977e-16</td>\n",
       "      <td>6.671767e-17</td>\n",
       "      <td>1.0</td>\n",
       "      <td>1.0</td>\n",
       "      <td>0.000000e+00</td>\n",
       "      <td>0.000000e+00</td>\n",
       "      <td>-1.524086e-17</td>\n",
       "      <td>8.788716e-16</td>\n",
       "      <td>0.356227</td>\n",
       "    </tr>\n",
       "    <tr>\n",
       "      <th>1</th>\n",
       "      <td>-1.140542e-16</td>\n",
       "      <td>-1.344250e-17</td>\n",
       "      <td>0.717647</td>\n",
       "      <td>2.378629e-16</td>\n",
       "      <td>1.0</td>\n",
       "      <td>4.949827e-16</td>\n",
       "      <td>4.060086e-16</td>\n",
       "      <td>-2.143612e-16</td>\n",
       "      <td>1.0</td>\n",
       "      <td>8.118833e-16</td>\n",
       "      <td>...</td>\n",
       "      <td>-4.696702e-16</td>\n",
       "      <td>6.854374e-17</td>\n",
       "      <td>1.329074e-16</td>\n",
       "      <td>1.0</td>\n",
       "      <td>1.0</td>\n",
       "      <td>0.000000e+00</td>\n",
       "      <td>2.081668e-17</td>\n",
       "      <td>2.201479e-16</td>\n",
       "      <td>7.835488e-16</td>\n",
       "      <td>0.143659</td>\n",
       "    </tr>\n",
       "    <tr>\n",
       "      <th>2</th>\n",
       "      <td>-8.708153e-18</td>\n",
       "      <td>4.640740e-16</td>\n",
       "      <td>0.717647</td>\n",
       "      <td>-3.180154e-16</td>\n",
       "      <td>1.0</td>\n",
       "      <td>8.463444e-16</td>\n",
       "      <td>3.119049e-16</td>\n",
       "      <td>-3.459287e-16</td>\n",
       "      <td>1.0</td>\n",
       "      <td>6.481946e-16</td>\n",
       "      <td>...</td>\n",
       "      <td>-3.456235e-16</td>\n",
       "      <td>3.585839e-16</td>\n",
       "      <td>-9.879782e-17</td>\n",
       "      <td>1.0</td>\n",
       "      <td>1.0</td>\n",
       "      <td>-6.938894e-17</td>\n",
       "      <td>-4.857226e-17</td>\n",
       "      <td>-6.038590e-16</td>\n",
       "      <td>1.117238e-15</td>\n",
       "      <td>0.887779</td>\n",
       "    </tr>\n",
       "  </tbody>\n",
       "</table>\n",
       "<p>3 rows × 26 columns</p>\n",
       "</div>"
      ],
      "text/plain": [
       "             0             1         2             3    4             5   \\\n",
       "0 -8.396065e-17  1.229666e-16  0.717647  7.906872e-17  1.0  5.953540e-16   \n",
       "1 -1.140542e-16 -1.344250e-17  0.717647  2.378629e-16  1.0  4.949827e-16   \n",
       "2 -8.708153e-18  4.640740e-16  0.717647 -3.180154e-16  1.0  8.463444e-16   \n",
       "\n",
       "             6             7    8             9   ...            16  \\\n",
       "0  3.791266e-16 -2.519452e-16  1.0  7.651234e-16  ... -4.342346e-16   \n",
       "1  4.060086e-16 -2.143612e-16  1.0  8.118833e-16  ... -4.696702e-16   \n",
       "2  3.119049e-16 -3.459287e-16  1.0  6.481946e-16  ... -3.456235e-16   \n",
       "\n",
       "             17            18   19   20            21            22  \\\n",
       "0  1.513977e-16  6.671767e-17  1.0  1.0  0.000000e+00  0.000000e+00   \n",
       "1  6.854374e-17  1.329074e-16  1.0  1.0  0.000000e+00  2.081668e-17   \n",
       "2  3.585839e-16 -9.879782e-17  1.0  1.0 -6.938894e-17 -4.857226e-17   \n",
       "\n",
       "             23            24        25  \n",
       "0 -1.524086e-17  8.788716e-16  0.356227  \n",
       "1  2.201479e-16  7.835488e-16  0.143659  \n",
       "2 -6.038590e-16  1.117238e-15  0.887779  \n",
       "\n",
       "[3 rows x 26 columns]"
      ]
     },
     "metadata": {},
     "output_type": "display_data"
    },
    {
     "name": "stdout",
     "output_type": "stream",
     "text": [
      "\n",
      "---------------------\n",
      "Reconstruction values\n",
      "---------------------\n"
     ]
    },
    {
     "data": {
      "text/html": [
       "<div>\n",
       "<style scoped>\n",
       "    .dataframe tbody tr th:only-of-type {\n",
       "        vertical-align: middle;\n",
       "    }\n",
       "\n",
       "    .dataframe tbody tr th {\n",
       "        vertical-align: top;\n",
       "    }\n",
       "\n",
       "    .dataframe thead th {\n",
       "        text-align: right;\n",
       "    }\n",
       "</style>\n",
       "<table border=\"1\" class=\"dataframe\">\n",
       "  <thead>\n",
       "    <tr style=\"text-align: right;\">\n",
       "      <th></th>\n",
       "      <th>0</th>\n",
       "      <th>1</th>\n",
       "      <th>2</th>\n",
       "      <th>3</th>\n",
       "      <th>4</th>\n",
       "      <th>5</th>\n",
       "      <th>6</th>\n",
       "      <th>7</th>\n",
       "      <th>8</th>\n",
       "      <th>9</th>\n",
       "      <th>...</th>\n",
       "      <th>16</th>\n",
       "      <th>17</th>\n",
       "      <th>18</th>\n",
       "      <th>19</th>\n",
       "      <th>20</th>\n",
       "      <th>21</th>\n",
       "      <th>22</th>\n",
       "      <th>23</th>\n",
       "      <th>24</th>\n",
       "      <th>25</th>\n",
       "    </tr>\n",
       "  </thead>\n",
       "  <tbody>\n",
       "    <tr>\n",
       "      <th>0</th>\n",
       "      <td>0.0</td>\n",
       "      <td>0.0</td>\n",
       "      <td>0.717647</td>\n",
       "      <td>0.0</td>\n",
       "      <td>1.0</td>\n",
       "      <td>0.0</td>\n",
       "      <td>0.0</td>\n",
       "      <td>0.0</td>\n",
       "      <td>1.0</td>\n",
       "      <td>0.0</td>\n",
       "      <td>...</td>\n",
       "      <td>0.0</td>\n",
       "      <td>0.0</td>\n",
       "      <td>0.0</td>\n",
       "      <td>1.0</td>\n",
       "      <td>1.0</td>\n",
       "      <td>0.0</td>\n",
       "      <td>0.0</td>\n",
       "      <td>0.0</td>\n",
       "      <td>5.578947e-17</td>\n",
       "      <td>0.356227</td>\n",
       "    </tr>\n",
       "    <tr>\n",
       "      <th>1</th>\n",
       "      <td>0.0</td>\n",
       "      <td>0.0</td>\n",
       "      <td>0.717647</td>\n",
       "      <td>0.0</td>\n",
       "      <td>1.0</td>\n",
       "      <td>0.0</td>\n",
       "      <td>0.0</td>\n",
       "      <td>0.0</td>\n",
       "      <td>1.0</td>\n",
       "      <td>0.0</td>\n",
       "      <td>...</td>\n",
       "      <td>0.0</td>\n",
       "      <td>0.0</td>\n",
       "      <td>0.0</td>\n",
       "      <td>1.0</td>\n",
       "      <td>1.0</td>\n",
       "      <td>0.0</td>\n",
       "      <td>0.0</td>\n",
       "      <td>0.0</td>\n",
       "      <td>5.578947e-17</td>\n",
       "      <td>0.143659</td>\n",
       "    </tr>\n",
       "    <tr>\n",
       "      <th>2</th>\n",
       "      <td>0.0</td>\n",
       "      <td>0.0</td>\n",
       "      <td>0.717647</td>\n",
       "      <td>0.0</td>\n",
       "      <td>1.0</td>\n",
       "      <td>0.0</td>\n",
       "      <td>0.0</td>\n",
       "      <td>0.0</td>\n",
       "      <td>1.0</td>\n",
       "      <td>0.0</td>\n",
       "      <td>...</td>\n",
       "      <td>0.0</td>\n",
       "      <td>0.0</td>\n",
       "      <td>0.0</td>\n",
       "      <td>1.0</td>\n",
       "      <td>1.0</td>\n",
       "      <td>0.0</td>\n",
       "      <td>0.0</td>\n",
       "      <td>0.0</td>\n",
       "      <td>5.578947e-17</td>\n",
       "      <td>0.887779</td>\n",
       "    </tr>\n",
       "  </tbody>\n",
       "</table>\n",
       "<p>3 rows × 26 columns</p>\n",
       "</div>"
      ],
      "text/plain": [
       "    0    1         2    3    4    5    6    7    8    9   ...   16   17   18  \\\n",
       "0  0.0  0.0  0.717647  0.0  1.0  0.0  0.0  0.0  1.0  0.0  ...  0.0  0.0  0.0   \n",
       "1  0.0  0.0  0.717647  0.0  1.0  0.0  0.0  0.0  1.0  0.0  ...  0.0  0.0  0.0   \n",
       "2  0.0  0.0  0.717647  0.0  1.0  0.0  0.0  0.0  1.0  0.0  ...  0.0  0.0  0.0   \n",
       "\n",
       "    19   20   21   22   23            24        25  \n",
       "0  1.0  1.0  0.0  0.0  0.0  5.578947e-17  0.356227  \n",
       "1  1.0  1.0  0.0  0.0  0.0  5.578947e-17  0.143659  \n",
       "2  1.0  1.0  0.0  0.0  0.0  5.578947e-17  0.887779  \n",
       "\n",
       "[3 rows x 26 columns]"
      ]
     },
     "metadata": {},
     "output_type": "display_data"
    }
   ],
   "source": [
    "# Projection reconstruction\n",
    "# ==============================================================================\n",
    "X_train_df = pd.DataFrame(X_train)\n",
    "\n",
    "projections = model_input_PCA.transform(X_train_df)\n",
    "reconstruction = model_input_PCA.inverse_transform(X=projections)\n",
    "\n",
    "reconstruccion = pd.DataFrame(\n",
    "                    reconstruction,\n",
    "                    columns = X_train_df.columns,\n",
    "                    index   = X_train_df.index,\n",
    ")\n",
    "\n",
    "print('------------------')\n",
    "print('Original values')\n",
    "print('------------------')\n",
    "display(reconstruccion.head(3))\n",
    "\n",
    "print('')\n",
    "print('---------------------')\n",
    "print('Reconstruction values')\n",
    "print('---------------------')\n",
    "display(X_train_df.head(3))"
   ]
  },
  {
   "cell_type": "code",
   "execution_count": 16,
   "id": "a84a9990",
   "metadata": {},
   "outputs": [],
   "source": [
    "def reconstruccion_error(X, n_components, X_new=None):\n",
    "    '''\n",
    "    Function that calculates reconstruction error of two dataframes\n",
    "    \n",
    "    Parameters\n",
    "    ----------\n",
    "    \n",
    "    X (data.frame): Dataframe to train the PCA\n",
    "    X_new (data.frame): Dataframe to apply reconstruction\n",
    "    n_components: number of components for the PCA application\n",
    "    \n",
    "    Returns\n",
    "    -------\n",
    "    \n",
    "    Reconstruction dataframe \n",
    "    Numpy array with reconstruction error\n",
    "    \n",
    "    '''\n",
    "    \n",
    "    if X_new is None:\n",
    "        X_new = X\n",
    "    \n",
    "    # Entrenamiento modelo PCA con escalado de los datos\n",
    "    pca_pipeline = make_pipeline(StandardScaler(), PCA(n_components=n_components,\n",
    "                                random_state=124))\n",
    "    pca_pipeline.fit(X=X)\n",
    "    \n",
    "    # Proyectar los datos\n",
    "    proyecciones = pca_pipeline.transform(X_new)\n",
    "    \n",
    "    # Reconstrucción\n",
    "    reconstruccion = pca_pipeline.inverse_transform(proyecciones)\n",
    "    reconstruccion = pd.DataFrame(\n",
    "                        reconstruccion,\n",
    "                        columns = X_new.columns,\n",
    "                        index   = X_new.index\n",
    "                    )\n",
    "    # RMSE\n",
    "    error_reconstruccion = reconstruccion - X_new\n",
    "    error_reconstruccion = error_reconstruccion**2\n",
    "    error_reconstruccion = error_reconstruccion.mean(axis=1)\n",
    "    \n",
    "    print(f\"Reconstruction with a PCA of {n_components} components\")\n",
    "    \n",
    "    return reconstruccion, error_reconstruccion"
   ]
  },
  {
   "cell_type": "code",
   "execution_count": 17,
   "id": "cb6dfd73",
   "metadata": {},
   "outputs": [
    {
     "name": "stdout",
     "output_type": "stream",
     "text": [
      "Reconstruction with a PCA of 16 components\n",
      "Reconstruction with a PCA of 16 components\n"
     ]
    }
   ],
   "source": [
    "# Reconstruction error with n components\n",
    "X_test_attack_df = pd.DataFrame(X_test_attack)\n",
    "X_train_df       = pd.DataFrame(X_train)\n",
    "X_train_df       = X_train_df.head(50000)\n",
    "rec_normal, error_normal = reconstruccion_error(X=X_train_df, \n",
    "                                                n_components = n_comp)\n",
    "\n",
    "rec_attack, error_attack = reconstruccion_error(X=X_train_df, \n",
    "                           n_components =n_comp, \n",
    "                           X_new=X_test_attack_df)"
   ]
  },
  {
   "cell_type": "code",
   "execution_count": 18,
   "id": "9f2b74a4",
   "metadata": {},
   "outputs": [
    {
     "name": "stdout",
     "output_type": "stream",
     "text": [
      "Reconstruction with a PCA of 16 components\n"
     ]
    }
   ],
   "source": [
    "# Let's do a PCA reconstruction again\n",
    "\n",
    "X_test_norm = X_test[0:len(X_test_attack)]   # We balance both labels by equaling vectors\n",
    "X_test = np.concatenate([X_test_norm, X_test_attack])\n",
    "y_test = np.ones(len(X_test))\n",
    "y_test[:len(X_test_norm)] = np.zeros(len(X_test_norm))\n",
    "X_test_df = pd.DataFrame(X_test)\n",
    "\n",
    "reconstruction_test, error_test = reconstruccion_error(X = X_test_norm, n_components = n_comp,\n",
    "                                                       X_new = X_test_df)"
   ]
  },
  {
   "cell_type": "code",
   "execution_count": 19,
   "id": "03446b8a",
   "metadata": {},
   "outputs": [
    {
     "data": {
      "text/html": [
       "<div>\n",
       "<style scoped>\n",
       "    .dataframe tbody tr th:only-of-type {\n",
       "        vertical-align: middle;\n",
       "    }\n",
       "\n",
       "    .dataframe tbody tr th {\n",
       "        vertical-align: top;\n",
       "    }\n",
       "\n",
       "    .dataframe thead th {\n",
       "        text-align: right;\n",
       "    }\n",
       "</style>\n",
       "<table border=\"1\" class=\"dataframe\">\n",
       "  <thead>\n",
       "    <tr style=\"text-align: right;\">\n",
       "      <th></th>\n",
       "      <th>error_reconstruction</th>\n",
       "      <th>type</th>\n",
       "    </tr>\n",
       "  </thead>\n",
       "  <tbody>\n",
       "    <tr>\n",
       "      <th>0</th>\n",
       "      <td>2.295971e-32</td>\n",
       "      <td>0.0</td>\n",
       "    </tr>\n",
       "    <tr>\n",
       "      <th>1</th>\n",
       "      <td>3.555138e-33</td>\n",
       "      <td>0.0</td>\n",
       "    </tr>\n",
       "    <tr>\n",
       "      <th>2</th>\n",
       "      <td>3.073516e-33</td>\n",
       "      <td>0.0</td>\n",
       "    </tr>\n",
       "    <tr>\n",
       "      <th>3</th>\n",
       "      <td>1.345145e-32</td>\n",
       "      <td>0.0</td>\n",
       "    </tr>\n",
       "    <tr>\n",
       "      <th>4</th>\n",
       "      <td>2.234295e-32</td>\n",
       "      <td>0.0</td>\n",
       "    </tr>\n",
       "    <tr>\n",
       "      <th>...</th>\n",
       "      <td>...</td>\n",
       "      <td>...</td>\n",
       "    </tr>\n",
       "    <tr>\n",
       "      <th>12227</th>\n",
       "      <td>5.696467e-33</td>\n",
       "      <td>0.0</td>\n",
       "    </tr>\n",
       "    <tr>\n",
       "      <th>12228</th>\n",
       "      <td>3.610228e-33</td>\n",
       "      <td>0.0</td>\n",
       "    </tr>\n",
       "    <tr>\n",
       "      <th>12229</th>\n",
       "      <td>4.386083e-33</td>\n",
       "      <td>0.0</td>\n",
       "    </tr>\n",
       "    <tr>\n",
       "      <th>12230</th>\n",
       "      <td>3.616023e-33</td>\n",
       "      <td>0.0</td>\n",
       "    </tr>\n",
       "    <tr>\n",
       "      <th>12231</th>\n",
       "      <td>2.486002e-33</td>\n",
       "      <td>0.0</td>\n",
       "    </tr>\n",
       "  </tbody>\n",
       "</table>\n",
       "<p>12232 rows × 2 columns</p>\n",
       "</div>"
      ],
      "text/plain": [
       "       error_reconstruction  type\n",
       "0              2.295971e-32   0.0\n",
       "1              3.555138e-33   0.0\n",
       "2              3.073516e-33   0.0\n",
       "3              1.345145e-32   0.0\n",
       "4              2.234295e-32   0.0\n",
       "...                     ...   ...\n",
       "12227          5.696467e-33   0.0\n",
       "12228          3.610228e-33   0.0\n",
       "12229          4.386083e-33   0.0\n",
       "12230          3.616023e-33   0.0\n",
       "12231          2.486002e-33   0.0\n",
       "\n",
       "[12232 rows x 2 columns]"
      ]
     },
     "execution_count": 19,
     "metadata": {},
     "output_type": "execute_result"
    }
   ],
   "source": [
    "df_results = pd.DataFrame({\n",
    "                    'error_reconstruction' : error_test,\n",
    "                    'type'                 : y_test})\n",
    "df_results[df_results['type']==0]"
   ]
  },
  {
   "cell_type": "code",
   "execution_count": 20,
   "id": "e83c7d88",
   "metadata": {},
   "outputs": [
    {
     "data": {
      "image/png": "[encoded data removed]",
      "text/plain": [
       "<Figure size 432x432 with 1 Axes>"
      ]
     },
     "metadata": {
      "needs_background": "light"
     },
     "output_type": "display_data"
    }
   ],
   "source": [
    "# === Paper Figure ===\n",
    "# Distribución reconstruction error \n",
    "\n",
    "df_results = pd.DataFrame({\n",
    "                    'error_reconstruction' : error_test,\n",
    "                    'type'                 : y_test})\n",
    "\n",
    "fig, ax = plt.subplots(nrows=1, ncols=1, figsize=(6, 6))\n",
    "sns.kdeplot(\n",
    "    df_results[df_results['type']==1].error_reconstruction,\n",
    "    fill    = True,\n",
    "    ax      = ax,\n",
    "    label   = 'Attack',\n",
    "    color   = 'red'\n",
    ")\n",
    "sns.kdeplot(\n",
    "    df_results[df_results['type']==0].error_reconstruction,\n",
    "    fill    = True,\n",
    "    ax      = ax,\n",
    "    label   = 'Normal',\n",
    "    color   = 'blue'\n",
    ")\n",
    "\n",
    "#sns.rugplot(error_reconstruccion,  ax=ax, color='black')\n",
    "plt.suptitle('Distribution Reconstruction Error',y=0.97, \n",
    "            fontsize=16)\n",
    "ax.set_title('PCA method '+str(n_comp)+' components real data', fontsize=15)\n",
    "ax.set_xlabel('Reconstruction error', fontsize = 14);\n",
    "ax.set_ylabel('Density',fontsize=14);\n",
    "ax.set_xlim(-0.05,0.050)\n",
    "ax.set_ylim(0,1000)\n",
    "plt.legend( fontsize=16)\n",
    "plt.savefig(path_figures+'PCA_anomalies_'+str(n_comp)+'_rea_gas.png', dpi=600)\n",
    "plt.show()"
   ]
  },
  {
   "cell_type": "code",
   "execution_count": 21,
   "id": "41808f20",
   "metadata": {},
   "outputs": [
    {
     "name": "stdout",
     "output_type": "stream",
     "text": [
      "Reconstruction with a PCA of 16 components\n"
     ]
    }
   ],
   "source": [
    "# Let's do a PCA reconstruction again\n",
    "\n",
    "X_test_norm = X_test[0:len(X_test_attack)]   # We balance both labels by equaling vectors\n",
    "X_test = np.concatenate([X_test_norm, X_test_attack])\n",
    "y_test = np.ones(len(X_test))\n",
    "y_test[:len(X_test_norm)] = np.zeros(len(X_test_norm))\n",
    "X_test_df = pd.DataFrame(X_test)\n",
    "\n",
    "reconstruction_test, error_test = reconstruccion_error(X = X_test_norm, n_components = n_comp,\n",
    "                                                       X_new = X_test_df)"
   ]
  },
  {
   "cell_type": "code",
   "execution_count": 22,
   "id": "ac982da8",
   "metadata": {},
   "outputs": [
    {
     "data": {
      "image/png": "[encoded data removed]",
      "text/plain": [
       "<Figure size 396x252 with 1 Axes>"
      ]
     },
     "metadata": {
      "needs_background": "light"
     },
     "output_type": "display_data"
    }
   ],
   "source": [
    "# test result\n",
    "\n",
    "df_results = pd.DataFrame({\n",
    "                    'error_reconstruction' : error_test,\n",
    "                    'type'                 : y_test})\n",
    "\n",
    "fig, ax = plt.subplots(nrows=1, ncols=1, figsize=(5.5, 3.5))\n",
    "sns.boxplot(\n",
    "    x     = 'type',\n",
    "    y     = 'error_reconstruction',\n",
    "    data  = df_results,\n",
    "    ax    = ax\n",
    ")\n",
    "ax.set_yscale(\"log\")\n",
    "ax.set_title('Reconstruction distribution errors (PCA)')\n",
    "ax.set_ylabel('log(Reconstruction error)')\n",
    "ax.set_xlabel('classification (0 = normal, 1 = anomaly)');"
   ]
  },
  {
   "cell_type": "code",
   "execution_count": 23,
   "id": "b3313fee",
   "metadata": {},
   "outputs": [
    {
     "data": {
      "text/plain": [
       "0.0    12232\n",
       "1.0    12232\n",
       "Name: type, dtype: int64"
      ]
     },
     "execution_count": 23,
     "metadata": {},
     "output_type": "execute_result"
    }
   ],
   "source": [
    "df_results['type'].value_counts()"
   ]
  },
  {
   "cell_type": "code",
   "execution_count": 24,
   "id": "41cb7e6f",
   "metadata": {},
   "outputs": [
    {
     "name": "stdout",
     "output_type": "stream",
     "text": [
      "error threshold >>> 0.012651216111178103\n",
      "total length vector anomalies :  24464\n",
      "Number of anomalies :  12232\n",
      "total length of y_test vector 24464\n",
      "total lenght of attacks in y_test vector 12232\n"
     ]
    }
   ],
   "source": [
    "rmse_error = df_results.error_reconstruction.to_numpy()\n",
    "error_threshold = np.median(rmse_error)\n",
    "print('error threshold >>>', error_threshold)\n",
    "\n",
    "anomalies = (rmse_error > error_threshold)\n",
    "np.count_nonzero(anomalies) / len(anomalies)\n",
    "print('total length vector anomalies : ',len(anomalies))\n",
    "print('Number of anomalies : ', np.count_nonzero(anomalies))\n",
    "print('total length of y_test vector',len(y_test))\n",
    "print('total lenght of attacks in y_test vector', np.count_nonzero(y_test))"
   ]
  },
  {
   "cell_type": "code",
   "execution_count": 25,
   "id": "1dbb638e",
   "metadata": {},
   "outputs": [
    {
     "name": "stdout",
     "output_type": "stream",
     "text": [
      "              precision    recall  f1-score   support\n",
      "\n",
      "         0.0       1.00      1.00      1.00     12232\n",
      "         1.0       1.00      1.00      1.00     12232\n",
      "\n",
      "    accuracy                           1.00     24464\n",
      "   macro avg       1.00      1.00      1.00     24464\n",
      "weighted avg       1.00      1.00      1.00     24464\n",
      "\n"
     ]
    }
   ],
   "source": [
    "print(classification_report(y_test, anomalies))"
   ]
  },
  {
   "cell_type": "code",
   "execution_count": 26,
   "id": "a5151b44",
   "metadata": {},
   "outputs": [],
   "source": [
    "#=================="
   ]
  },
  {
   "cell_type": "code",
   "execution_count": 27,
   "id": "dfad8697",
   "metadata": {},
   "outputs": [
    {
     "data": {
      "image/png": "[encoded data removed]",
      "text/plain": [
       "<Figure size 396x252 with 1 Axes>"
      ]
     },
     "metadata": {
      "needs_background": "light"
     },
     "output_type": "display_data"
    }
   ],
   "source": [
    "df_results = pd.DataFrame({\n",
    "                    'anomaly' : anomalies,\n",
    "                    'label'   : y_test\n",
    "                })\n",
    "\n",
    "fig, ax = plt.subplots(nrows=1, ncols=1, figsize=(5.5, 3.5))\n",
    "sns.boxplot(\n",
    "    x     = 'anomaly',\n",
    "    y     = 'label',\n",
    "    data  = df_results,\n",
    "    #color = \"white\",\n",
    "    palette = 'tab10',\n",
    "    ax    = ax\n",
    ")\n",
    "ax.set_yscale(\"log\")\n",
    "ax.set_title('Reconstruction distribution errors (PCA)')\n",
    "ax.set_ylabel('log(Reconstruction error)')\n",
    "ax.set_xlabel('classification (0 = normal, 1 = anomaly)');"
   ]
  },
  {
   "cell_type": "code",
   "execution_count": 28,
   "id": "bd9898a2",
   "metadata": {},
   "outputs": [],
   "source": [
    "def scatterPlot(xDF, yDF, algoName):\n",
    "    tempDF = pd.DataFrame(data=xDF.loc[:,0:1], index=xDF.index)\n",
    "    tempDF = pd.concat((tempDF,yDF), axis=1, join=\"inner\")\n",
    "    tempDF.columns = [\"First Vector\", \"Second Vector\", \"Label\"]\n",
    "    sns.lmplot(x=\"First Vector\", y=\"Second Vector\", hue=\"Label\", \\\n",
    "               data=tempDF, fit_reg=False)\n",
    "    ax = plt.gca()\n",
    "    ax.set_title(\"Separation of Observations using \"+algoName)"
   ]
  },
  {
   "cell_type": "code",
   "execution_count": 29,
   "id": "ae57c174",
   "metadata": {},
   "outputs": [
    {
     "data": {
      "image/png": "[encoded data removed]",
      "text/plain": [
       "<Figure size 411.875x360 with 1 Axes>"
      ]
     },
     "metadata": {
      "needs_background": "light"
     },
     "output_type": "display_data"
    }
   ],
   "source": [
    "n_components = 2\n",
    "whiten = False\n",
    "random_state = 2018\n",
    "\n",
    "pca = PCA(n_components=n_components, whiten=whiten, \\\n",
    "          random_state=random_state)\n",
    "\n",
    "X_test_PCA = pca.fit_transform(X_test)\n",
    "X_test_PCA = pd.DataFrame(X_test_PCA)\n",
    "\n",
    "X_test_PCA_inverse = pca.inverse_transform(X_test_PCA)\n",
    "X_test_PCA_inverse = pd.DataFrame(X_test_PCA_inverse)\n",
    "\n",
    "scatterPlot(X_test_PCA, pd.Series(y_test) , \"PCA\")"
   ]
  },
  {
   "cell_type": "code",
   "execution_count": 30,
   "id": "92ffdf08",
   "metadata": {},
   "outputs": [],
   "source": [
    "def anomalyScores(originalDF, reducedDF):\n",
    "    loss = np.sum((np.array(originalDF)-np.array(reducedDF))**2, axis=1)\n",
    "    loss = pd.Series(data=loss,index=originalDF.index)\n",
    "    loss = (loss-np.min(loss))/(np.max(loss)-np.min(loss))\n",
    "    return loss"
   ]
  },
  {
   "cell_type": "code",
   "execution_count": 31,
   "id": "c25d40b9",
   "metadata": {},
   "outputs": [],
   "source": [
    "#anomalyScoresPCA = anomalyScores(X_test, X_test_PCA_inverse)\n",
    "#preds = plotResults(y_test, anomalyScoresPCA, True)"
   ]
  },
  {
   "cell_type": "code",
   "execution_count": 32,
   "id": "f598c6a8",
   "metadata": {},
   "outputs": [
    {
     "name": "stdout",
     "output_type": "stream",
     "text": [
      "-----\n",
      "keras               2.7.0\n",
      "matplotlib          3.5.0\n",
      "numpy               1.23.1\n",
      "pandas              1.3.4\n",
      "seaborn             0.11.2\n",
      "session_info        1.0.0\n",
      "sklearn             1.0.1\n",
      "tensorflow          2.7.0\n",
      "-----\n",
      "IPython             7.29.0\n",
      "jupyter_client      7.0.6\n",
      "jupyter_core        4.9.1\n",
      "-----\n",
      "Python 3.8.12 (default, Oct 12 2021, 13:49:34) [GCC 7.5.0]\n",
      "Linux-5.15.0-48-generic-x86_64-with-glibc2.17\n",
      "-----\n",
      "Session information updated at 2022-10-13 22:04\n"
     ]
    }
   ],
   "source": [
    "import session_info\n",
    "session_info.show(html=False)"
   ]
  },
  {
   "cell_type": "code",
   "execution_count": 33,
   "id": "a636a8f8",
   "metadata": {},
   "outputs": [],
   "source": [
    "#===============================0"
   ]
  },
  {
   "cell_type": "code",
   "execution_count": 34,
   "id": "6919dabc",
   "metadata": {},
   "outputs": [],
   "source": [
    "#EOF"
   ]
  }
 ],
 "metadata": {
  "kernelspec": {
   "display_name": "DL",
   "language": "python",
   "name": "dl"
  },
  "language_info": {
   "codemirror_mode": {
    "name": "ipython",
    "version": 3
   },
   "file_extension": ".py",
   "mimetype": "text/x-python",
   "name": "python",
   "nbconvert_exporter": "python",
   "pygments_lexer": "ipython3",
   "version": "3.8.12"
  }
 },
 "nbformat": 4,
 "nbformat_minor": 5
}
