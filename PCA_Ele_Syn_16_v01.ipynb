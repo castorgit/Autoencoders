{
 "cells": [
  {
   "cell_type": "code",
   "execution_count": 1,
   "id": "5258117b",
   "metadata": {},
   "outputs": [],
   "source": [
    "# PCA 16 components Synthetic Data"
   ]
  },
  {
   "cell_type": "markdown",
   "id": "9063cd5c",
   "metadata": {},
   "source": [
    "# PCA anomaly detection SCADAS\n",
    "\n",
    "PCA used for anomaly detection <br>\n",
    "\n",
    "Normal and attack real data<br>\n"
   ]
  },
  {
   "cell_type": "code",
   "execution_count": 2,
   "id": "4f94e982",
   "metadata": {},
   "outputs": [
    {
     "name": "stderr",
     "output_type": "stream",
     "text": [
      "2022-10-06 22:44:18.070209: W tensorflow/stream_executor/platform/default/dso_loader.cc:64] Could not load dynamic library 'libcudart.so.11.0'; dlerror: libcudart.so.11.0: cannot open shared object file: No such file or directory\n",
      "2022-10-06 22:44:18.070241: I tensorflow/stream_executor/cuda/cudart_stub.cc:29] Ignore above cudart dlerror if you do not have a GPU set up on your machine.\n"
     ]
    }
   ],
   "source": [
    "import numpy as np\n",
    "import pandas as pd\n",
    "from tensorflow import keras\n",
    "from tensorflow.keras import layers\n",
    "from tensorflow import keras\n",
    "from sklearn.preprocessing import normalize\n",
    "from sklearn.model_selection import train_test_split\n",
    "from sklearn.preprocessing import MinMaxScaler, StandardScaler, PowerTransformer\n",
    "from sklearn.decomposition import PCA\n",
    "from sklearn.pipeline import make_pipeline\n",
    "from sklearn.metrics import classification_report\n",
    "\n",
    "import seaborn as sns\n",
    "import matplotlib.pyplot as plt\n",
    "\n",
    "import os\n",
    "os.environ['TF_CPP_MIN_LOG_LEVEL'] = '3' # to avoid warning messages = 3 "
   ]
  },
  {
   "cell_type": "code",
   "execution_count": 3,
   "id": "b13b0c54",
   "metadata": {},
   "outputs": [],
   "source": [
    "def label_marker(row):\n",
    "    if isinstance(row['marker'], str) and 'Natural' in row['marker']:\n",
    "        return 0\n",
    "    if isinstance(row['marker'], str) and 'Attack' in row['marker']:\n",
    "        return 1\n",
    "    return "
   ]
  },
  {
   "cell_type": "code",
   "execution_count": 4,
   "id": "eb4ec713",
   "metadata": {},
   "outputs": [],
   "source": [
    "# assign number of components\n",
    "n_comp = 16"
   ]
  },
  {
   "cell_type": "code",
   "execution_count": 5,
   "id": "7cf479f9",
   "metadata": {},
   "outputs": [
    {
     "name": "stdout",
     "output_type": "stream",
     "text": [
      "1000000\n",
      "55663\n"
     ]
    }
   ],
   "source": [
    "#path = './data/Zero_Day/'\n",
    "path = './new_data/'\n",
    "path_figures = './figures/'\n",
    "path_normal = path + 'normal.csv' # real data\n",
    "path_normal = path +'VAE_syntheticdata_normal_epoch100_1000000.csv'\n",
    "\n",
    "\n",
    "path_attack = path + 'attack.csv' # real data\n",
    "\n",
    "normal_df = pd.read_csv(path_normal)  \n",
    "attack_df = pd.read_csv(path_attack)  \n",
    "\n",
    "normal_df['marker'] = normal_df.apply(label_marker, axis=1)\n",
    "attack_df['marker'] = attack_df.apply(label_marker, axis=1)\n",
    "\n",
    "normal_label = normal_df['marker'].to_numpy() \n",
    "attack_label = attack_df['marker'].to_numpy() \n",
    "\n",
    "print(len(normal_label))\n",
    "print(len(attack_label))\n",
    "\n",
    "#adding noise to x_train\n",
    "#noise = np.random.normal(0, NOISE, traffic_np_norm.shape)"
   ]
  },
  {
   "cell_type": "code",
   "execution_count": 6,
   "id": "b66f06a3",
   "metadata": {},
   "outputs": [],
   "source": [
    "# Delete marker column \n",
    "normal_df.drop(['marker'], axis=1, inplace=True)\n",
    "attack_df.drop(['marker'], axis=1, inplace=True)"
   ]
  },
  {
   "cell_type": "code",
   "execution_count": 7,
   "id": "df8ac2c1",
   "metadata": {},
   "outputs": [
    {
     "name": "stdout",
     "output_type": "stream",
     "text": [
      "normal shape (1000000, 128)\n",
      "attack shape (55663, 128)\n"
     ]
    }
   ],
   "source": [
    "# each row of the dataframe is considered a sequence\n",
    "# we create a numpy array with the sequences\n",
    "normal_np = normal_df.to_numpy()\n",
    "print('normal shape',normal_np.shape)\n",
    "attack_np = attack_df.to_numpy()\n",
    "print('attack shape', attack_np.shape)"
   ]
  },
  {
   "cell_type": "code",
   "execution_count": 8,
   "id": "46c1a00d",
   "metadata": {},
   "outputs": [],
   "source": [
    "normal_df = normal_df.replace([np.inf, -np.inf], 0)\n",
    "scaler = MinMaxScaler()\n",
    "normal_scaled = scaler.fit_transform(normal_df)\n",
    "\n",
    "attack_df = attack_df.replace([np.inf, -np.inf], 0)\n",
    "scaler = MinMaxScaler()\n",
    "attack_scaled = scaler.fit_transform(attack_df)"
   ]
  },
  {
   "cell_type": "code",
   "execution_count": 9,
   "id": "9f73526d",
   "metadata": {},
   "outputs": [
    {
     "name": "stdout",
     "output_type": "stream",
     "text": [
      "(55663, 128)\n",
      "(1000000, 128)\n"
     ]
    }
   ],
   "source": [
    "norm_samples = normal_scaled\n",
    "attack_samples = attack_scaled\n",
    "print (attack_samples.shape)\n",
    "print (norm_samples.shape)"
   ]
  },
  {
   "cell_type": "code",
   "execution_count": 10,
   "id": "ac48ebcc",
   "metadata": {},
   "outputs": [],
   "source": [
    "# generate train set\n",
    "# training set will consist of the normal ds\n",
    "\n",
    "len_norm = len(norm_samples)\n",
    "len_norm_train = int(0.80 * len_norm)\n",
    "X_train = norm_samples[:len_norm_train]\n",
    "\n",
    "# generate test set consist of 50% attack and 50% normal\n",
    "\n",
    "X_test_norm = norm_samples[len_norm_train:]\n",
    "len_attack_test = len(X_test_norm) # we will use the same number\n",
    "X_test_attack = attack_scaled[:len_attack_test]\n",
    "\n",
    "X_test = np.concatenate([X_test_norm, X_test_attack])\n",
    "y_test = np.ones(len(X_test))\n",
    "y_test[:len(X_test_norm)] = np.zeros(len(X_test_norm))"
   ]
  },
  {
   "cell_type": "code",
   "execution_count": 11,
   "id": "29c5b2ae",
   "metadata": {},
   "outputs": [
    {
     "name": "stdout",
     "output_type": "stream",
     "text": [
      "Normal Traffic Training input shape:  (800000, 128)\n",
      "Test Traffic Test input shape:  (255663, 128)\n"
     ]
    }
   ],
   "source": [
    "#x_train = traffic_np_norm[...,np.newaxis]\n",
    "#x_combine = combine_np_norm[...,np.newaxis]\n",
    "#x_attack = attack_np_norm[...,np.newaxis]\n",
    "print(\"Normal Traffic Training input shape: \", X_train.shape)\n",
    "print(\"Test Traffic Test input shape: \", X_test.shape, )"
   ]
  },
  {
   "cell_type": "code",
   "execution_count": 12,
   "id": "5f52ff1d",
   "metadata": {},
   "outputs": [],
   "source": [
    "# Apply PCA to input\n",
    "\n",
    "model_input_PCA = PCA(n_components=None, random_state=123, \n",
    "                      svd_solver='arpack')\n",
    "X_transform_input = model_input_PCA.fit_transform(X_train)\n",
    "\n"
   ]
  },
  {
   "cell_type": "code",
   "execution_count": 13,
   "id": "5cbc10b3",
   "metadata": {},
   "outputs": [
    {
     "data": {
      "image/png": "[encoded data removed]",
      "text/plain": [
       "<Figure size 648x288 with 1 Axes>"
      ]
     },
     "metadata": {
      "needs_background": "light"
     },
     "output_type": "display_data"
    }
   ],
   "source": [
    "fig,ax = plt.subplots(1,1, figsize=(9,4))\n",
    "ax.bar(\n",
    "   x = np.arange(model_input_PCA.n_components_) + 1,\n",
    "   height = model_input_PCA.explained_variance_ratio_\n",
    ")\n",
    "\n",
    "ax.set_title('Percentaje variance explained by PCA')\n",
    "ax.set_xlabel('Principal component')\n",
    "ax.set_ylabel('Percentage variance explained');\n",
    "plt.show()"
   ]
  },
  {
   "cell_type": "code",
   "execution_count": 14,
   "id": "bd1db3ea",
   "metadata": {},
   "outputs": [
    {
     "name": "stdout",
     "output_type": "stream",
     "text": [
      "------------------------------------------\n",
      "Cummulated variance explained\n",
      "------------------------------------------\n",
      "[0.15096842 0.25346925 0.29630299 0.32607671 0.35124224 0.37517258\n",
      " 0.396232   0.41595319 0.43483252 0.45360278 0.47083167 0.48786067\n",
      " 0.50410022 0.51917888 0.53354755 0.54725066 0.56069868 0.57348094\n",
      " 0.58579967 0.59751445 0.60850292 0.61891666 0.62928772 0.63942318\n",
      " 0.64937324 0.6590487  0.66861679 0.67783125 0.68685294 0.6956602\n",
      " 0.70432783 0.71297055 0.7214805  0.72989525 0.73811906 0.74615363\n",
      " 0.7540732  0.76194918 0.76973341 0.77750704 0.78509225 0.79248122\n",
      " 0.79975585 0.80694275 0.81402917 0.82104471 0.8280115  0.83476506\n",
      " 0.84146288 0.84804878 0.85443489 0.86063282 0.86675035 0.87256161\n",
      " 0.87832662 0.8840239  0.88967376 0.89512933 0.90048728 0.90581609\n",
      " 0.91107996 0.91618823 0.92095468 0.92566593 0.9298833  0.93398365\n",
      " 0.93800412 0.94075733 0.94334389 0.94574497 0.94809879 0.9503935\n",
      " 0.95261192 0.954705   0.95677522 0.95881233 0.96075305 0.96267178\n",
      " 0.96452908 0.96632521 0.9680506  0.96973269 0.97134015 0.97292854\n",
      " 0.97444835 0.97589062 0.97731449 0.97869009 0.98006225 0.98136642\n",
      " 0.98258242 0.98373809 0.98482843 0.98589058 0.98690454 0.98788135\n",
      " 0.9888425  0.9897824  0.99065434 0.99146495 0.99224701 0.99298099\n",
      " 0.99369514 0.99437006 0.99500989 0.995582   0.99612965 0.99661942\n",
      " 0.99704745 0.99740385 0.99774752 0.9980855  0.99840167 0.99870487\n",
      " 0.99900551 0.99929705 0.99950475 0.99970162 0.99988682 1.\n",
      " 1.         1.         1.         1.         1.         1.\n",
      " 1.        ]\n"
     ]
    },
    {
     "data": {
      "image/png": "[encoded data removed]",
      "text/plain": [
       "<Figure size 1152x288 with 1 Axes>"
      ]
     },
     "metadata": {
      "needs_background": "light"
     },
     "output_type": "display_data"
    }
   ],
   "source": [
    "# Cummulated variance explained\n",
    "# ==============================================================================\n",
    "prop_varianza_acum = model_input_PCA.explained_variance_ratio_.cumsum()\n",
    "print('------------------------------------------')\n",
    "print('Cummulated variance explained')\n",
    "print('------------------------------------------')\n",
    "print(prop_varianza_acum)\n",
    "\n",
    "fig, ax = plt.subplots(nrows=1, ncols=1, figsize=(16, 4))\n",
    "ax.plot(\n",
    "    np.arange(model_input_PCA.n_components_) + 1,\n",
    "    prop_varianza_acum,\n",
    "    marker = 'o'\n",
    ")\n",
    "\n",
    "for x, y in zip(np.arange(model_input_PCA.n_components_) + 1, prop_varianza_acum):\n",
    "    label = round(y, 2)\n",
    "    ax.annotate(\n",
    "        label,\n",
    "        (x,y),\n",
    "        textcoords=\"offset points\",\n",
    "        xytext=(0,10),\n",
    "        ha='center'\n",
    "    )\n",
    "\n",
    "ax.axvline(x=11, linestyle = '--')\n",
    "ax.set_ylim(0, 1.1)\n",
    "ax.set_xticks(np.arange(model_input_PCA.n_components_) + 1)\n",
    "ax.set_title('Porcentaje de varianza explicada acumulada')\n",
    "ax.set_xlabel('Componente principal')\n",
    "ax.set_ylabel('Por. varianza acumulada');\n",
    "\n"
   ]
  },
  {
   "cell_type": "code",
   "execution_count": 15,
   "id": "eb72791b",
   "metadata": {},
   "outputs": [
    {
     "name": "stdout",
     "output_type": "stream",
     "text": [
      "------------------\n",
      "Original values\n",
      "------------------\n"
     ]
    },
    {
     "data": {
      "text/html": [
       "<div>\n",
       "<style scoped>\n",
       "    .dataframe tbody tr th:only-of-type {\n",
       "        vertical-align: middle;\n",
       "    }\n",
       "\n",
       "    .dataframe tbody tr th {\n",
       "        vertical-align: top;\n",
       "    }\n",
       "\n",
       "    .dataframe thead th {\n",
       "        text-align: right;\n",
       "    }\n",
       "</style>\n",
       "<table border=\"1\" class=\"dataframe\">\n",
       "  <thead>\n",
       "    <tr style=\"text-align: right;\">\n",
       "      <th></th>\n",
       "      <th>0</th>\n",
       "      <th>1</th>\n",
       "      <th>2</th>\n",
       "      <th>3</th>\n",
       "      <th>4</th>\n",
       "      <th>5</th>\n",
       "      <th>6</th>\n",
       "      <th>7</th>\n",
       "      <th>8</th>\n",
       "      <th>9</th>\n",
       "      <th>...</th>\n",
       "      <th>118</th>\n",
       "      <th>119</th>\n",
       "      <th>120</th>\n",
       "      <th>121</th>\n",
       "      <th>122</th>\n",
       "      <th>123</th>\n",
       "      <th>124</th>\n",
       "      <th>125</th>\n",
       "      <th>126</th>\n",
       "      <th>127</th>\n",
       "    </tr>\n",
       "  </thead>\n",
       "  <tbody>\n",
       "    <tr>\n",
       "      <th>0</th>\n",
       "      <td>0.623762</td>\n",
       "      <td>0.807716</td>\n",
       "      <td>0.505886</td>\n",
       "      <td>0.680621</td>\n",
       "      <td>0.798411</td>\n",
       "      <td>0.696931</td>\n",
       "      <td>0.427694</td>\n",
       "      <td>0.268159</td>\n",
       "      <td>0.526814</td>\n",
       "      <td>0.377369</td>\n",
       "      <td>...</td>\n",
       "      <td>-2.627433e-18</td>\n",
       "      <td>-2.340092e-16</td>\n",
       "      <td>-5.551115e-17</td>\n",
       "      <td>-1.804112e-16</td>\n",
       "      <td>-2.081668e-17</td>\n",
       "      <td>-3.469447e-17</td>\n",
       "      <td>2.318725e-16</td>\n",
       "      <td>5.285432e-16</td>\n",
       "      <td>1.948257e-16</td>\n",
       "      <td>4.301513e-16</td>\n",
       "    </tr>\n",
       "    <tr>\n",
       "      <th>1</th>\n",
       "      <td>0.591591</td>\n",
       "      <td>0.825392</td>\n",
       "      <td>0.710891</td>\n",
       "      <td>0.699241</td>\n",
       "      <td>0.844095</td>\n",
       "      <td>0.685540</td>\n",
       "      <td>0.328181</td>\n",
       "      <td>0.252639</td>\n",
       "      <td>0.819130</td>\n",
       "      <td>0.343038</td>\n",
       "      <td>...</td>\n",
       "      <td>5.516016e-17</td>\n",
       "      <td>-1.246624e-15</td>\n",
       "      <td>2.289835e-16</td>\n",
       "      <td>4.163336e-17</td>\n",
       "      <td>3.261280e-16</td>\n",
       "      <td>4.857226e-17</td>\n",
       "      <td>2.528079e-16</td>\n",
       "      <td>-6.270640e-16</td>\n",
       "      <td>-8.894513e-16</td>\n",
       "      <td>-2.364934e-16</td>\n",
       "    </tr>\n",
       "    <tr>\n",
       "      <th>2</th>\n",
       "      <td>0.981485</td>\n",
       "      <td>0.826384</td>\n",
       "      <td>0.939974</td>\n",
       "      <td>0.703139</td>\n",
       "      <td>0.783916</td>\n",
       "      <td>0.662075</td>\n",
       "      <td>0.464212</td>\n",
       "      <td>0.312171</td>\n",
       "      <td>0.592049</td>\n",
       "      <td>0.508611</td>\n",
       "      <td>...</td>\n",
       "      <td>7.447773e-16</td>\n",
       "      <td>1.512223e-15</td>\n",
       "      <td>2.081668e-17</td>\n",
       "      <td>0.000000e+00</td>\n",
       "      <td>-1.318390e-16</td>\n",
       "      <td>1.387779e-17</td>\n",
       "      <td>-1.317916e-15</td>\n",
       "      <td>3.280574e-15</td>\n",
       "      <td>2.021587e-15</td>\n",
       "      <td>1.499470e-15</td>\n",
       "    </tr>\n",
       "  </tbody>\n",
       "</table>\n",
       "<p>3 rows × 128 columns</p>\n",
       "</div>"
      ],
      "text/plain": [
       "        0         1         2         3         4         5         6    \\\n",
       "0  0.623762  0.807716  0.505886  0.680621  0.798411  0.696931  0.427694   \n",
       "1  0.591591  0.825392  0.710891  0.699241  0.844095  0.685540  0.328181   \n",
       "2  0.981485  0.826384  0.939974  0.703139  0.783916  0.662075  0.464212   \n",
       "\n",
       "        7         8         9    ...           118           119  \\\n",
       "0  0.268159  0.526814  0.377369  ... -2.627433e-18 -2.340092e-16   \n",
       "1  0.252639  0.819130  0.343038  ...  5.516016e-17 -1.246624e-15   \n",
       "2  0.312171  0.592049  0.508611  ...  7.447773e-16  1.512223e-15   \n",
       "\n",
       "            120           121           122           123           124  \\\n",
       "0 -5.551115e-17 -1.804112e-16 -2.081668e-17 -3.469447e-17  2.318725e-16   \n",
       "1  2.289835e-16  4.163336e-17  3.261280e-16  4.857226e-17  2.528079e-16   \n",
       "2  2.081668e-17  0.000000e+00 -1.318390e-16  1.387779e-17 -1.317916e-15   \n",
       "\n",
       "            125           126           127  \n",
       "0  5.285432e-16  1.948257e-16  4.301513e-16  \n",
       "1 -6.270640e-16 -8.894513e-16 -2.364934e-16  \n",
       "2  3.280574e-15  2.021587e-15  1.499470e-15  \n",
       "\n",
       "[3 rows x 128 columns]"
      ]
     },
     "metadata": {},
     "output_type": "display_data"
    },
    {
     "name": "stdout",
     "output_type": "stream",
     "text": [
      "\n",
      "---------------------\n",
      "Reconstruction values\n",
      "---------------------\n"
     ]
    },
    {
     "data": {
      "text/html": [
       "<div>\n",
       "<style scoped>\n",
       "    .dataframe tbody tr th:only-of-type {\n",
       "        vertical-align: middle;\n",
       "    }\n",
       "\n",
       "    .dataframe tbody tr th {\n",
       "        vertical-align: top;\n",
       "    }\n",
       "\n",
       "    .dataframe thead th {\n",
       "        text-align: right;\n",
       "    }\n",
       "</style>\n",
       "<table border=\"1\" class=\"dataframe\">\n",
       "  <thead>\n",
       "    <tr style=\"text-align: right;\">\n",
       "      <th></th>\n",
       "      <th>0</th>\n",
       "      <th>1</th>\n",
       "      <th>2</th>\n",
       "      <th>3</th>\n",
       "      <th>4</th>\n",
       "      <th>5</th>\n",
       "      <th>6</th>\n",
       "      <th>7</th>\n",
       "      <th>8</th>\n",
       "      <th>9</th>\n",
       "      <th>...</th>\n",
       "      <th>118</th>\n",
       "      <th>119</th>\n",
       "      <th>120</th>\n",
       "      <th>121</th>\n",
       "      <th>122</th>\n",
       "      <th>123</th>\n",
       "      <th>124</th>\n",
       "      <th>125</th>\n",
       "      <th>126</th>\n",
       "      <th>127</th>\n",
       "    </tr>\n",
       "  </thead>\n",
       "  <tbody>\n",
       "    <tr>\n",
       "      <th>0</th>\n",
       "      <td>0.623762</td>\n",
       "      <td>0.807716</td>\n",
       "      <td>0.505886</td>\n",
       "      <td>0.680621</td>\n",
       "      <td>0.798411</td>\n",
       "      <td>0.696931</td>\n",
       "      <td>0.427694</td>\n",
       "      <td>0.268159</td>\n",
       "      <td>0.526814</td>\n",
       "      <td>0.377369</td>\n",
       "      <td>...</td>\n",
       "      <td>0.0</td>\n",
       "      <td>0.0</td>\n",
       "      <td>0.0</td>\n",
       "      <td>0.0</td>\n",
       "      <td>0.0</td>\n",
       "      <td>0.0</td>\n",
       "      <td>0.0</td>\n",
       "      <td>0.0</td>\n",
       "      <td>0.0</td>\n",
       "      <td>0.0</td>\n",
       "    </tr>\n",
       "    <tr>\n",
       "      <th>1</th>\n",
       "      <td>0.591591</td>\n",
       "      <td>0.825392</td>\n",
       "      <td>0.710891</td>\n",
       "      <td>0.699241</td>\n",
       "      <td>0.844095</td>\n",
       "      <td>0.685540</td>\n",
       "      <td>0.328181</td>\n",
       "      <td>0.252639</td>\n",
       "      <td>0.819130</td>\n",
       "      <td>0.343038</td>\n",
       "      <td>...</td>\n",
       "      <td>0.0</td>\n",
       "      <td>0.0</td>\n",
       "      <td>0.0</td>\n",
       "      <td>0.0</td>\n",
       "      <td>0.0</td>\n",
       "      <td>0.0</td>\n",
       "      <td>0.0</td>\n",
       "      <td>0.0</td>\n",
       "      <td>0.0</td>\n",
       "      <td>0.0</td>\n",
       "    </tr>\n",
       "    <tr>\n",
       "      <th>2</th>\n",
       "      <td>0.981485</td>\n",
       "      <td>0.826384</td>\n",
       "      <td>0.939974</td>\n",
       "      <td>0.703139</td>\n",
       "      <td>0.783916</td>\n",
       "      <td>0.662075</td>\n",
       "      <td>0.464212</td>\n",
       "      <td>0.312171</td>\n",
       "      <td>0.592049</td>\n",
       "      <td>0.508611</td>\n",
       "      <td>...</td>\n",
       "      <td>0.0</td>\n",
       "      <td>0.0</td>\n",
       "      <td>0.0</td>\n",
       "      <td>0.0</td>\n",
       "      <td>0.0</td>\n",
       "      <td>0.0</td>\n",
       "      <td>0.0</td>\n",
       "      <td>0.0</td>\n",
       "      <td>0.0</td>\n",
       "      <td>0.0</td>\n",
       "    </tr>\n",
       "  </tbody>\n",
       "</table>\n",
       "<p>3 rows × 128 columns</p>\n",
       "</div>"
      ],
      "text/plain": [
       "        0         1         2         3         4         5         6    \\\n",
       "0  0.623762  0.807716  0.505886  0.680621  0.798411  0.696931  0.427694   \n",
       "1  0.591591  0.825392  0.710891  0.699241  0.844095  0.685540  0.328181   \n",
       "2  0.981485  0.826384  0.939974  0.703139  0.783916  0.662075  0.464212   \n",
       "\n",
       "        7         8         9    ...  118  119  120  121  122  123  124  125  \\\n",
       "0  0.268159  0.526814  0.377369  ...  0.0  0.0  0.0  0.0  0.0  0.0  0.0  0.0   \n",
       "1  0.252639  0.819130  0.343038  ...  0.0  0.0  0.0  0.0  0.0  0.0  0.0  0.0   \n",
       "2  0.312171  0.592049  0.508611  ...  0.0  0.0  0.0  0.0  0.0  0.0  0.0  0.0   \n",
       "\n",
       "   126  127  \n",
       "0  0.0  0.0  \n",
       "1  0.0  0.0  \n",
       "2  0.0  0.0  \n",
       "\n",
       "[3 rows x 128 columns]"
      ]
     },
     "metadata": {},
     "output_type": "display_data"
    }
   ],
   "source": [
    "# Projection reconstruction\n",
    "# ==============================================================================\n",
    "X_train_df = pd.DataFrame(X_train)\n",
    "\n",
    "projections = model_input_PCA.transform(X_train_df)\n",
    "reconstruction = model_input_PCA.inverse_transform(X=projections)\n",
    "\n",
    "reconstruccion = pd.DataFrame(\n",
    "                    reconstruction,\n",
    "                    columns = X_train_df.columns,\n",
    "                    index   = X_train_df.index,\n",
    ")\n",
    "\n",
    "print('------------------')\n",
    "print('Original values')\n",
    "print('------------------')\n",
    "display(reconstruccion.head(3))\n",
    "\n",
    "print('')\n",
    "print('---------------------')\n",
    "print('Reconstruction values')\n",
    "print('---------------------')\n",
    "display(X_train_df.head(3))"
   ]
  },
  {
   "cell_type": "code",
   "execution_count": 16,
   "id": "a84a9990",
   "metadata": {},
   "outputs": [],
   "source": [
    "def reconstruccion_error(X, n_components, X_new=None):\n",
    "    '''\n",
    "    Function that calculates reconstruction error of two dataframes\n",
    "    \n",
    "    Parameters\n",
    "    ----------\n",
    "    \n",
    "    X (data.frame): Dataframe to train the PCA\n",
    "    X_new (data.frame): Dataframe to apply reconstruction\n",
    "    n_components: number of components for the PCA application\n",
    "    \n",
    "    Returns\n",
    "    -------\n",
    "    \n",
    "    Reconstruction dataframe \n",
    "    Numpy array with reconstruction error\n",
    "    \n",
    "    '''\n",
    "    \n",
    "    if X_new is None:\n",
    "        X_new = X\n",
    "    \n",
    "    # Entrenamiento modelo PCA con escalado de los datos\n",
    "    pca_pipeline = make_pipeline(StandardScaler(), PCA(n_components=n_components,\n",
    "                                random_state=124))\n",
    "    pca_pipeline.fit(X=X)\n",
    "    \n",
    "    # Proyectar los datos\n",
    "    proyecciones = pca_pipeline.transform(X_new)\n",
    "    \n",
    "    # Reconstrucción\n",
    "    reconstruccion = pca_pipeline.inverse_transform(proyecciones)\n",
    "    reconstruccion = pd.DataFrame(\n",
    "                        reconstruccion,\n",
    "                        columns = X_new.columns,\n",
    "                        index   = X_new.index\n",
    "                    )\n",
    "    # RMSE\n",
    "    error_reconstruccion = reconstruccion - X_new\n",
    "    error_reconstruccion = error_reconstruccion**2\n",
    "    error_reconstruccion = error_reconstruccion.mean(axis=1)\n",
    "    \n",
    "    print(f\"Reconstruction with a PCA of {n_components} components\")\n",
    "    \n",
    "    return reconstruccion, error_reconstruccion"
   ]
  },
  {
   "cell_type": "code",
   "execution_count": 17,
   "id": "cb6dfd73",
   "metadata": {},
   "outputs": [
    {
     "name": "stdout",
     "output_type": "stream",
     "text": [
      "Reconstruction with a PCA of 16 components\n",
      "Reconstruction with a PCA of 16 components\n"
     ]
    }
   ],
   "source": [
    "# Reconstruction error with n components\n",
    "X_test_attack_df = pd.DataFrame(X_test_attack)\n",
    "X_train_df       = pd.DataFrame(X_train)\n",
    "X_train_df       = X_train_df.head(50000)\n",
    "rec_normal, error_normal = reconstruccion_error(X=X_train_df, \n",
    "                                                n_components = n_comp)\n",
    "\n",
    "rec_attack, error_attack = reconstruccion_error(X=X_train_df, \n",
    "                           n_components =n_comp, \n",
    "                           X_new=X_test_attack_df)"
   ]
  },
  {
   "cell_type": "code",
   "execution_count": 18,
   "id": "9f2b74a4",
   "metadata": {},
   "outputs": [
    {
     "name": "stdout",
     "output_type": "stream",
     "text": [
      "Reconstruction with a PCA of 16 components\n"
     ]
    }
   ],
   "source": [
    "# Let's do a PCA reconstruction again\n",
    "\n",
    "X_test_norm = X_test[0:len(X_test_attack)]   # We balance both labels by equaling vectors\n",
    "X_test = np.concatenate([X_test_norm, X_test_attack])\n",
    "y_test = np.ones(len(X_test))\n",
    "y_test[:len(X_test_norm)] = np.zeros(len(X_test_norm))\n",
    "X_test_df = pd.DataFrame(X_test)\n",
    "\n",
    "reconstruction_test, error_test = reconstruccion_error(X = X_test_norm, n_components = n_comp,\n",
    "                                                       X_new = X_test_df)"
   ]
  },
  {
   "cell_type": "code",
   "execution_count": 19,
   "id": "e83c7d88",
   "metadata": {},
   "outputs": [
    {
     "data": {
      "image/png": "[encoded data removed]",
      "text/plain": [
       "<Figure size 432x432 with 1 Axes>"
      ]
     },
     "metadata": {
      "needs_background": "light"
     },
     "output_type": "display_data"
    }
   ],
   "source": [
    "# === Paper Figure ===\n",
    "# Distribución reconstruction error \n",
    "\n",
    "df_results = pd.DataFrame({\n",
    "                    'error_reconstruction' : error_test,\n",
    "                    'type'                 : y_test})\n",
    "\n",
    "fig, ax = plt.subplots(nrows=1, ncols=1, figsize=(6, 6))\n",
    "sns.kdeplot(\n",
    "    df_results[df_results['type']==0].error_reconstruction,\n",
    "    fill    = True,\n",
    "    ax      = ax,\n",
    "    label   = 'Normal',\n",
    "    color   = 'blue'\n",
    ")\n",
    "sns.kdeplot(\n",
    "    df_results[df_results['type']==1].error_reconstruction,\n",
    "    fill    = True,\n",
    "    ax      = ax,\n",
    "    label   = 'Attack',\n",
    "    color   = 'red'\n",
    ")\n",
    "#sns.rugplot(error_reconstruccion,  ax=ax, color='black')\n",
    "plt.suptitle('Distribution Reconstruction Error',y=0.97, \n",
    "            fontsize=16)\n",
    "ax.set_title('PCA method '+str(n_comp)+' components synthetic data', fontsize=15)\n",
    "ax.set_xlabel('Reconstruction error', fontsize = 14);\n",
    "ax.set_ylabel('Density',fontsize=14);\n",
    "ax.set_xlim(0,0.25)\n",
    "plt.legend( fontsize=16)\n",
    "plt.savefig(path_figures+'PCA_anomalies_'+str(n_comp)+'_syn.png', dpi=600)\n",
    "plt.show()"
   ]
  },
  {
   "cell_type": "code",
   "execution_count": 20,
   "id": "41808f20",
   "metadata": {},
   "outputs": [
    {
     "name": "stdout",
     "output_type": "stream",
     "text": [
      "Reconstruction with a PCA of 16 components\n"
     ]
    }
   ],
   "source": [
    "# Let's do a PCA reconstruction again\n",
    "\n",
    "X_test_norm = X_test[0:len(X_test_attack)]   # We balance both labels by equaling vectors\n",
    "X_test = np.concatenate([X_test_norm, X_test_attack])\n",
    "y_test = np.ones(len(X_test))\n",
    "y_test[:len(X_test_norm)] = np.zeros(len(X_test_norm))\n",
    "X_test_df = pd.DataFrame(X_test)\n",
    "\n",
    "reconstruction_test, error_test = reconstruccion_error(X = X_test_norm, n_components = n_comp,\n",
    "                                                       X_new = X_test_df)"
   ]
  },
  {
   "cell_type": "code",
   "execution_count": 21,
   "id": "ac982da8",
   "metadata": {},
   "outputs": [
    {
     "data": {
      "image/png": "[encoded data removed]",
      "text/plain": [
       "<Figure size 396x252 with 1 Axes>"
      ]
     },
     "metadata": {
      "needs_background": "light"
     },
     "output_type": "display_data"
    }
   ],
   "source": [
    "# test result\n",
    "\n",
    "df_results = pd.DataFrame({\n",
    "                    'error_reconstruction' : error_test,\n",
    "                    'type'                 : y_test})\n",
    "\n",
    "fig, ax = plt.subplots(nrows=1, ncols=1, figsize=(5.5, 3.5))\n",
    "sns.boxplot(\n",
    "    x     = 'type',\n",
    "    y     = 'error_reconstruction',\n",
    "    data  = df_results,\n",
    "    ax    = ax\n",
    ")\n",
    "ax.set_yscale(\"log\")\n",
    "ax.set_title('Reconstruction distribution errors (PCA)')\n",
    "ax.set_ylabel('log(Reconstruction error)')\n",
    "ax.set_xlabel('classification (0 = normal, 1 = anomaly)');"
   ]
  },
  {
   "cell_type": "code",
   "execution_count": 22,
   "id": "b3313fee",
   "metadata": {},
   "outputs": [
    {
     "data": {
      "text/plain": [
       "0.0    55663\n",
       "1.0    55663\n",
       "Name: type, dtype: int64"
      ]
     },
     "execution_count": 22,
     "metadata": {},
     "output_type": "execute_result"
    }
   ],
   "source": [
    "df_results['type'].value_counts()"
   ]
  },
  {
   "cell_type": "code",
   "execution_count": 23,
   "id": "41cb7e6f",
   "metadata": {},
   "outputs": [
    {
     "name": "stdout",
     "output_type": "stream",
     "text": [
      "error threshold >>> 0.04366876262700185\n",
      "total length vector anomalies :  111326\n",
      "Number of anomalies :  55663\n",
      "total length of y_test vector 111326\n",
      "total lenght of attacks in y_test vector 55663\n"
     ]
    }
   ],
   "source": [
    "rmse_error = df_results.error_reconstruction.to_numpy()\n",
    "error_threshold = np.median(rmse_error)\n",
    "print('error threshold >>>', error_threshold)\n",
    "\n",
    "anomalies = (rmse_error > error_threshold)\n",
    "np.count_nonzero(anomalies) / len(anomalies)\n",
    "print('total length vector anomalies : ',len(anomalies))\n",
    "print('Number of anomalies : ', np.count_nonzero(anomalies))\n",
    "print('total length of y_test vector',len(y_test))\n",
    "print('total lenght of attacks in y_test vector', np.count_nonzero(y_test))"
   ]
  },
  {
   "cell_type": "code",
   "execution_count": 24,
   "id": "1dbb638e",
   "metadata": {},
   "outputs": [
    {
     "name": "stdout",
     "output_type": "stream",
     "text": [
      "              precision    recall  f1-score   support\n",
      "\n",
      "         0.0       1.00      1.00      1.00     55663\n",
      "         1.0       1.00      1.00      1.00     55663\n",
      "\n",
      "    accuracy                           1.00    111326\n",
      "   macro avg       1.00      1.00      1.00    111326\n",
      "weighted avg       1.00      1.00      1.00    111326\n",
      "\n"
     ]
    }
   ],
   "source": [
    "print(classification_report(y_test, anomalies))"
   ]
  },
  {
   "cell_type": "code",
   "execution_count": 25,
   "id": "a5151b44",
   "metadata": {},
   "outputs": [],
   "source": [
    "#=================="
   ]
  },
  {
   "cell_type": "code",
   "execution_count": 26,
   "id": "dfad8697",
   "metadata": {},
   "outputs": [
    {
     "data": {
      "image/png": "[encoded data removed]",
      "text/plain": [
       "<Figure size 396x252 with 1 Axes>"
      ]
     },
     "metadata": {
      "needs_background": "light"
     },
     "output_type": "display_data"
    }
   ],
   "source": [
    "df_results = pd.DataFrame({\n",
    "                    'anomaly' : anomalies,\n",
    "                    'label'   : y_test\n",
    "                })\n",
    "\n",
    "fig, ax = plt.subplots(nrows=1, ncols=1, figsize=(5.5, 3.5))\n",
    "sns.boxplot(\n",
    "    x     = 'anomaly',\n",
    "    y     = 'label',\n",
    "    data  = df_results,\n",
    "    #color = \"white\",\n",
    "    palette = 'tab10',\n",
    "    ax    = ax\n",
    ")\n",
    "ax.set_yscale(\"log\")\n",
    "ax.set_title('Reconstruction distribution errors (PCA)')\n",
    "ax.set_ylabel('log(Reconstruction error)')\n",
    "ax.set_xlabel('classification (0 = normal, 1 = anomaly)');"
   ]
  },
  {
   "cell_type": "code",
   "execution_count": 27,
   "id": "bd9898a2",
   "metadata": {},
   "outputs": [],
   "source": [
    "def scatterPlot(xDF, yDF, algoName):\n",
    "    tempDF = pd.DataFrame(data=xDF.loc[:,0:1], index=xDF.index)\n",
    "    tempDF = pd.concat((tempDF,yDF), axis=1, join=\"inner\")\n",
    "    tempDF.columns = [\"First Vector\", \"Second Vector\", \"Label\"]\n",
    "    sns.lmplot(x=\"First Vector\", y=\"Second Vector\", hue=\"Label\", \\\n",
    "               data=tempDF, fit_reg=False)\n",
    "    ax = plt.gca()\n",
    "    ax.set_title(\"Separation of Observations using \"+algoName)"
   ]
  },
  {
   "cell_type": "code",
   "execution_count": 28,
   "id": "ae57c174",
   "metadata": {},
   "outputs": [
    {
     "data": {
      "image/png": "[encoded data removed]",
      "text/plain": [
       "<Figure size 411.875x360 with 1 Axes>"
      ]
     },
     "metadata": {
      "needs_background": "light"
     },
     "output_type": "display_data"
    }
   ],
   "source": [
    "n_components = 2\n",
    "whiten = False\n",
    "random_state = 2018\n",
    "\n",
    "pca = PCA(n_components=n_components, whiten=whiten, \\\n",
    "          random_state=random_state)\n",
    "\n",
    "X_test_PCA = pca.fit_transform(X_test)\n",
    "X_test_PCA = pd.DataFrame(X_test_PCA)\n",
    "\n",
    "X_test_PCA_inverse = pca.inverse_transform(X_test_PCA)\n",
    "X_test_PCA_inverse = pd.DataFrame(X_test_PCA_inverse)\n",
    "\n",
    "scatterPlot(X_test_PCA, pd.Series(y_test) , \"PCA\")"
   ]
  },
  {
   "cell_type": "code",
   "execution_count": 29,
   "id": "92ffdf08",
   "metadata": {},
   "outputs": [],
   "source": [
    "def anomalyScores(originalDF, reducedDF):\n",
    "    loss = np.sum((np.array(originalDF)-np.array(reducedDF))**2, axis=1)\n",
    "    loss = pd.Series(data=loss,index=originalDF.index)\n",
    "    loss = (loss-np.min(loss))/(np.max(loss)-np.min(loss))\n",
    "    return loss"
   ]
  },
  {
   "cell_type": "code",
   "execution_count": 30,
   "id": "c25d40b9",
   "metadata": {},
   "outputs": [],
   "source": [
    "#anomalyScoresPCA = anomalyScores(X_test, X_test_PCA_inverse)\n",
    "#preds = plotResults(y_test, anomalyScoresPCA, True)"
   ]
  },
  {
   "cell_type": "code",
   "execution_count": 31,
   "id": "f598c6a8",
   "metadata": {},
   "outputs": [
    {
     "name": "stdout",
     "output_type": "stream",
     "text": [
      "-----\n",
      "keras               2.7.0\n",
      "matplotlib          3.5.0\n",
      "numpy               1.23.1\n",
      "pandas              1.3.4\n",
      "seaborn             0.11.2\n",
      "session_info        1.0.0\n",
      "sklearn             1.0.1\n",
      "tensorflow          2.7.0\n",
      "-----\n",
      "IPython             7.29.0\n",
      "jupyter_client      7.0.6\n",
      "jupyter_core        4.9.1\n",
      "-----\n",
      "Python 3.8.12 (default, Oct 12 2021, 13:49:34) [GCC 7.5.0]\n",
      "Linux-5.15.0-48-generic-x86_64-with-glibc2.17\n",
      "-----\n",
      "Session information updated at 2022-10-06 22:45\n"
     ]
    }
   ],
   "source": [
    "import session_info\n",
    "session_info.show(html=False)"
   ]
  },
  {
   "cell_type": "code",
   "execution_count": 32,
   "id": "a636a8f8",
   "metadata": {},
   "outputs": [],
   "source": [
    "#===============================0"
   ]
  },
  {
   "cell_type": "code",
   "execution_count": 33,
   "id": "6919dabc",
   "metadata": {},
   "outputs": [],
   "source": [
    "#EOF"
   ]
  }
 ],
 "metadata": {
  "kernelspec": {
   "display_name": "DL",
   "language": "python",
   "name": "dl"
  },
  "language_info": {
   "codemirror_mode": {
    "name": "ipython",
    "version": 3
   },
   "file_extension": ".py",
   "mimetype": "text/x-python",
   "name": "python",
   "nbconvert_exporter": "python",
   "pygments_lexer": "ipython3",
   "version": "3.8.12"
  }
 },
 "nbformat": 4,
 "nbformat_minor": 5
}
